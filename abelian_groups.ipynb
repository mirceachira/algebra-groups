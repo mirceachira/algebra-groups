{
 "cells": [
  {
   "cell_type": "code",
   "execution_count": 1,
   "metadata": {},
   "outputs": [],
   "source": [
    "import copy\n",
    "\n",
    "def get_matrix(n):\n",
    "    \"\"\"\n",
    "    Get an empty matrix.\n",
    "    \"\"\"\n",
    "    matrix = []\n",
    "    for i in range(n):\n",
    "        matrix.append([None]*n)\n",
    "    return matrix\n",
    "\n",
    "def generate_skeleton(n):\n",
    "    \"\"\"\n",
    "    Generate all n by n abelian group operation table skeletons.\n",
    "    \n",
    "    A skeleton is basically an empty matrix with a set identity element.\n",
    "    \"\"\"\n",
    "    for e in range(n):\n",
    "        matrix = get_matrix(n)\n",
    "        for i in range(n):\n",
    "            matrix[e][i] = i\n",
    "            matrix[i][e] = i\n",
    "        yield matrix\n",
    "\n",
    "def fill_abelian_group_table(table, line, column):\n",
    "    \"\"\"\n",
    "    Core functionality to fill table such that it remains an abelian group.\n",
    "    \"\"\"\n",
    "    n = len(table)\n",
    "    \n",
    "    # Increment the line if we reached the last column\n",
    "    if column == n:\n",
    "        line += 1\n",
    "        # Set column to line so that we only parse half of the operation table matrix\n",
    "        column = line\n",
    "    \n",
    "    # If the last line and column have been reached we have a valid table!\n",
    "    if line == n:\n",
    "        yield table\n",
    "        return\n",
    "    \n",
    "    # Continue to next column if the current one is already set\n",
    "    if table[line][column] is not None:\n",
    "        yield from fill_abelian_group_table(table, line, column + 1)\n",
    "\n",
    "    for i in range(n):\n",
    "        # Set current position and it's symmetric to main diagonal to any element that\n",
    "        # is not present in current row OR in symmetric row\n",
    "        if i not in table[line] and i not in table[column]:\n",
    "            table_copy = copy.deepcopy(table)\n",
    "            \n",
    "            table_copy[line][column] = i\n",
    "            table_copy[column][line] = i\n",
    "            \n",
    "            yield from fill_abelian_group_table(table_copy, line, column + 1)\n",
    "        \n",
    "        \n",
    "def pretty_print_abelian_group_tables(n):\n",
    "    \"\"\"\n",
    "    Utility to display table\n",
    "    \"\"\"\n",
    "    skeleton_tables = generate_skeleton(n)\n",
    "    count = 0\n",
    "    \n",
    "    for skeleton in skeleton_tables:\n",
    "        filled_tables_generator = fill_abelian_group_table(skeleton, 0, 0)\n",
    "        for table in filled_tables_generator:\n",
    "            count += 1\n",
    "            print('\\ntable {}   '.format(str(count)) + '- ' * n * 4)\n",
    "            for row in range(n):\n",
    "                print('\\t'.join([str(x) for x in table[row]]))\n",
    "            \n",
    "    "
   ]
  },
  {
   "cell_type": "code",
   "execution_count": 2,
   "metadata": {},
   "outputs": [
    {
     "name": "stdout",
     "output_type": "stream",
     "text": [
      "\n",
      "table 1   - - - - - - - - \n",
      "0\t1\n",
      "1\t0\n",
      "\n",
      "table 2   - - - - - - - - \n",
      "1\t0\n",
      "0\t1\n"
     ]
    }
   ],
   "source": [
    "pretty_print_abelian_group_tables(2)"
   ]
  },
  {
   "cell_type": "code",
   "execution_count": 3,
   "metadata": {},
   "outputs": [
    {
     "name": "stdout",
     "output_type": "stream",
     "text": [
      "\n",
      "table 1   - - - - - - - - - - - - \n",
      "0\t1\t2\n",
      "1\t2\t0\n",
      "2\t0\t1\n",
      "\n",
      "table 2   - - - - - - - - - - - - \n",
      "2\t0\t1\n",
      "0\t1\t2\n",
      "1\t2\t0\n",
      "\n",
      "table 3   - - - - - - - - - - - - \n",
      "1\t2\t0\n",
      "2\t0\t1\n",
      "0\t1\t2\n"
     ]
    }
   ],
   "source": [
    "pretty_print_abelian_group_tables(3)"
   ]
  },
  {
   "cell_type": "code",
   "execution_count": 4,
   "metadata": {},
   "outputs": [
    {
     "name": "stdout",
     "output_type": "stream",
     "text": [
      "\n",
      "table 1   - - - - - - - - - - - - - - - - \n",
      "0\t1\t2\t3\n",
      "1\t0\t3\t2\n",
      "2\t3\t0\t1\n",
      "3\t2\t1\t0\n",
      "\n",
      "table 2   - - - - - - - - - - - - - - - - \n",
      "0\t1\t2\t3\n",
      "1\t0\t3\t2\n",
      "2\t3\t1\t0\n",
      "3\t2\t0\t1\n",
      "\n",
      "table 3   - - - - - - - - - - - - - - - - \n",
      "0\t1\t2\t3\n",
      "1\t2\t3\t0\n",
      "2\t3\t0\t1\n",
      "3\t0\t1\t2\n",
      "\n",
      "table 4   - - - - - - - - - - - - - - - - \n",
      "0\t1\t2\t3\n",
      "1\t3\t0\t2\n",
      "2\t0\t3\t1\n",
      "3\t2\t1\t0\n",
      "\n",
      "table 5   - - - - - - - - - - - - - - - - \n",
      "1\t0\t3\t2\n",
      "0\t1\t2\t3\n",
      "3\t2\t0\t1\n",
      "2\t3\t1\t0\n",
      "\n",
      "table 6   - - - - - - - - - - - - - - - - \n",
      "1\t0\t3\t2\n",
      "0\t1\t2\t3\n",
      "3\t2\t1\t0\n",
      "2\t3\t0\t1\n",
      "\n",
      "table 7   - - - - - - - - - - - - - - - - \n",
      "2\t0\t3\t1\n",
      "0\t1\t2\t3\n",
      "3\t2\t1\t0\n",
      "1\t3\t0\t2\n",
      "\n",
      "table 8   - - - - - - - - - - - - - - - - \n",
      "3\t0\t1\t2\n",
      "0\t1\t2\t3\n",
      "1\t2\t3\t0\n",
      "2\t3\t0\t1\n",
      "\n",
      "table 9   - - - - - - - - - - - - - - - - \n",
      "1\t3\t0\t2\n",
      "3\t2\t1\t0\n",
      "0\t1\t2\t3\n",
      "2\t0\t3\t1\n",
      "\n",
      "table 10   - - - - - - - - - - - - - - - - \n",
      "2\t3\t0\t1\n",
      "3\t0\t1\t2\n",
      "0\t1\t2\t3\n",
      "1\t2\t3\t0\n",
      "\n",
      "table 11   - - - - - - - - - - - - - - - - \n",
      "2\t3\t0\t1\n",
      "3\t2\t1\t0\n",
      "0\t1\t2\t3\n",
      "1\t0\t3\t2\n",
      "\n",
      "table 12   - - - - - - - - - - - - - - - - \n",
      "3\t2\t0\t1\n",
      "2\t3\t1\t0\n",
      "0\t1\t2\t3\n",
      "1\t0\t3\t2\n",
      "\n",
      "table 13   - - - - - - - - - - - - - - - - \n",
      "1\t2\t3\t0\n",
      "2\t3\t0\t1\n",
      "3\t0\t1\t2\n",
      "0\t1\t2\t3\n",
      "\n",
      "table 14   - - - - - - - - - - - - - - - - \n",
      "2\t3\t1\t0\n",
      "3\t2\t0\t1\n",
      "1\t0\t3\t2\n",
      "0\t1\t2\t3\n",
      "\n",
      "table 15   - - - - - - - - - - - - - - - - \n",
      "3\t2\t1\t0\n",
      "2\t0\t3\t1\n",
      "1\t3\t0\t2\n",
      "0\t1\t2\t3\n",
      "\n",
      "table 16   - - - - - - - - - - - - - - - - \n",
      "3\t2\t1\t0\n",
      "2\t3\t0\t1\n",
      "1\t0\t3\t2\n",
      "0\t1\t2\t3\n"
     ]
    }
   ],
   "source": [
    "pretty_print_abelian_group_tables(4)"
   ]
  },
  {
   "cell_type": "code",
   "execution_count": 5,
   "metadata": {},
   "outputs": [],
   "source": [
    "# May take some time\n",
    "# pretty_print_abelian_group_tables(5)"
   ]
  },
  {
   "cell_type": "code",
   "execution_count": 6,
   "metadata": {},
   "outputs": [],
   "source": [
    "# May take some time\n",
    "# pretty_print_abelian_group_tables(6)"
   ]
  },
  {
   "cell_type": "code",
   "execution_count": 7,
   "metadata": {},
   "outputs": [],
   "source": [
    "# May take some time\n",
    "# pretty_print_abelian_group_tables(7)"
   ]
  },
  {
   "cell_type": "code",
   "execution_count": 8,
   "metadata": {},
   "outputs": [],
   "source": [
    "# May take some time\n",
    "# pretty_print_abelian_group_tables(8)"
   ]
  }
 ],
 "metadata": {
  "kernelspec": {
   "display_name": "Python 3",
   "language": "python",
   "name": "python3"
  },
  "language_info": {
   "codemirror_mode": {
    "name": "ipython",
    "version": 3
   },
   "file_extension": ".py",
   "mimetype": "text/x-python",
   "name": "python",
   "nbconvert_exporter": "python",
   "pygments_lexer": "ipython3",
   "version": "3.6.7"
  }
 },
 "nbformat": 4,
 "nbformat_minor": 2
}
